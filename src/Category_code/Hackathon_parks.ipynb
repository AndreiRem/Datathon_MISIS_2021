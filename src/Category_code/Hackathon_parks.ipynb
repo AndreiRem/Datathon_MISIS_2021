{
  "nbformat": 4,
  "nbformat_minor": 0,
  "metadata": {
    "kernelspec": {
      "display_name": "Python 3",
      "language": "python",
      "name": "python3"
    },
    "language_info": {
      "codemirror_mode": {
        "name": "ipython",
        "version": 3
      },
      "file_extension": ".py",
      "mimetype": "text/x-python",
      "name": "python",
      "nbconvert_exporter": "python",
      "pygments_lexer": "ipython3",
      "version": "3.8.6"
    },
    "colab": {
      "name": "Hackathon_parks.ipynb",
      "provenance": []
    }
  },
  "cells": [
    {
      "cell_type": "code",
      "metadata": {
        "colab": {
          "base_uri": "https://localhost:8080/"
        },
        "id": "eucVormrzmUK",
        "outputId": "4d11f8bb-7b19-4054-ef8a-1da9e3b9918d"
      },
      "source": [
        "!pip install openpyxl xlsxwriter xlrd"
      ],
      "execution_count": 22,
      "outputs": [
        {
          "output_type": "stream",
          "name": "stdout",
          "text": [
            "Requirement already satisfied: openpyxl in c:\\users\\rvsol\\appdata\\local\\programs\\python\\python38\\lib\\site-packages (3.0.7)"
          ]
        },
        {
          "output_type": "stream",
          "name": "stderr",
          "text": [
            "WARNING: You are using pip version 20.3.1; however, version 21.3 is available.\n",
            "You should consider upgrading via the 'c:\\users\\rvsol\\appdata\\local\\programs\\python\\python38\\python.exe -m pip install --upgrade pip' command.\n"
          ]
        },
        {
          "output_type": "stream",
          "name": "stdout",
          "text": [
            "\n",
            "Requirement already satisfied: xlrd in c:\\users\\rvsol\\appdata\\local\\programs\\python\\python38\\lib\\site-packages (2.0.1)\n",
            "Requirement already satisfied: et-xmlfile in c:\\users\\rvsol\\appdata\\local\\programs\\python\\python38\\lib\\site-packages (from openpyxl) (1.0.1)\n",
            "Collecting xlsxwriter\n",
            "  Downloading XlsxWriter-3.0.1-py3-none-any.whl (148 kB)\n",
            "Installing collected packages: xlsxwriter\n",
            "Successfully installed xlsxwriter-3.0.1\n"
          ]
        }
      ]
    },
    {
      "cell_type": "code",
      "metadata": {
        "id": "hfKSP26JzmUN"
      },
      "source": [
        "import pandas as pd"
      ],
      "execution_count": 2,
      "outputs": []
    },
    {
      "cell_type": "markdown",
      "metadata": {
        "id": "vvAzwnw0zmUN"
      },
      "source": [
        "# Структура данных\n",
        "### ID - уникальный идентификатор\n",
        "### Name - название\n",
        "### AdmArea - округ\n",
        "### District - район\n",
        "### Address - улица и дом\n",
        "### Category - основная категория\n",
        "### SubCategory - подтип\n",
        "### geoData - координаты"
      ]
    },
    {
      "cell_type": "code",
      "metadata": {
        "colab": {
          "base_uri": "https://localhost:8080/"
        },
        "id": "aXgSSqag3cyc",
        "outputId": "4ed8238c-0c0c-4a87-f80c-881b9b28181d"
      },
      "source": [
        "import os\n",
        "os.chdir('E:\\\\github\\\\local\\\\')\n",
        "print(os.listdir())"
      ],
      "execution_count": 34,
      "outputs": [
        {
          "output_type": "stream",
          "name": "stdout",
          "text": [
            "['data-2838-2021-10-20.json', 'data-2838-2021-10-20.xlsx', 'data-2838-2021-10-20.zip', 'Hackathon_local.ipynb']\n"
          ]
        }
      ]
    },
    {
      "cell_type": "code",
      "metadata": {
        "id": "QWMz_iIUzmUO"
      },
      "source": [
        "df_parks = pd.read_json('data-2838-2021-10-20.json', encoding=\"cp1251\")"
      ],
      "execution_count": 35,
      "outputs": []
    },
    {
      "cell_type": "code",
      "metadata": {
        "colab": {
          "base_uri": "https://localhost:8080/"
        },
        "id": "pYIEetS9zmUP",
        "outputId": "d0c6687b-9c75-45f7-ddd7-1a7f5a772619"
      },
      "source": [
        "print(df_parks.columns)\n",
        "columns = ['ID', 'CommonName', 'AdmArea', 'District',\n",
        "           'Location', 'geodata_center']\n",
        "df_parks = df_parks[columns]"
      ],
      "execution_count": 37,
      "outputs": [
        {
          "output_type": "stream",
          "name": "stdout",
          "text": [
            "Index(['ID', 'CommonName', 'AdmArea', 'District', 'Location',\n",
            "       'BalanceholderINN', 'BalanceholderKPP', 'BalanceholderOGRN',\n",
            "       'BalanceholderPhone', 'global_id', 'BalanceholderWebSite',\n",
            "       'NeighbourhoodPark', 'HasWater', 'HasPlayground', 'HasSportground',\n",
            "       'ParkWebSite', 'ParkPhone', 'OperationOrganizationName',\n",
            "       'OperationOrganizationPhone', 'OperationOrganizationWebSite',\n",
            "       'WorkingHours', 'ClarificationOfWorkingHours', 'CreateEntries',\n",
            "       'EntranceAdditionalInformation', 'EntryState', 'EntryModifyReason',\n",
            "       'DepartamentalAffiliationComp', 'BalanceholderComp', 'geoData',\n",
            "       'geodata_center', 'EntryAddReason'],\n",
            "      dtype='object')\n"
          ]
        }
      ]
    },
    {
      "cell_type": "code",
      "metadata": {
        "id": "oH4-DWp5zmUP"
      },
      "source": [
        "df_parks.columns = ['ID', 'Name', 'AdmArea', 'District',\n",
        "           'Address', 'geoData']"
      ],
      "execution_count": 38,
      "outputs": []
    },
    {
      "cell_type": "code",
      "metadata": {
        "id": "Gk0khvj8zmUS"
      },
      "source": [
        "df_parks.loc[:,'Category'] = ['Досуг'] * len(df_parks.ID)\n",
        "df_parks.loc[:,'SubCategory'] = ['Парк'] * len(df_parks.ID)\n",
        "df_parks.loc[:,'GlobalID'] = pd.NA"
      ],
      "execution_count": 39,
      "outputs": []
    },
    {
      "cell_type": "code",
      "metadata": {
        "colab": {
          "base_uri": "https://localhost:8080/",
          "height": 380
        },
        "id": "-RjWsVZz9byR",
        "outputId": "b24fd21c-a6fe-4137-f45f-2237c229bc0f"
      },
      "source": [
        "df_parks.head()"
      ],
      "execution_count": 40,
      "outputs": [
        {
          "output_type": "execute_result",
          "data": {
            "text/plain": [
              "    ID                                               Name  \\\n",
              "0  108  Памятник садово-паркового искусства – «Парк Дв...   \n",
              "1  229        Природно-исторический парк «Битцевский лес»   \n",
              "2  230             Природно-исторический парк «Тушинский»   \n",
              "3  235                Ландшафтный заказник «Тропарёвский»   \n",
              "4  278     Природно-исторический парк «Кузьминки-Люблино»   \n",
              "\n",
              "                                  AdmArea  \\\n",
              "0     Юго-Западный административный округ   \n",
              "1     Юго-Западный административный округ   \n",
              "2  Северо-Западный административный округ   \n",
              "3         Западный административный округ   \n",
              "4    Юго-Восточный административный округ   \n",
              "\n",
              "                                            District  \\\n",
              "0                                  Гагаринский район   \n",
              "1                                      район Ясенево   \n",
              "2  [район Куркино, район Митино, район Северное Т...   \n",
              "3                           район Тропарёво-Никулино   \n",
              "4                                    район Кузьминки   \n",
              "\n",
              "                                             Address  \\\n",
              "0  Главный вход в парк расположен со стороны улиц...   \n",
              "1                     Восточная часть района Ясенево   \n",
              "2              улица Вилиса Лациса, дом 18, корпус 3   \n",
              "3  между МКАД и улицей Академика Анохина, Тропаре...   \n",
              "4                          Кузьминская улица, дом 10   \n",
              "\n",
              "                                             geoData Category SubCategory  \\\n",
              "0  {'coordinates': [37.5568070589245, 55.70429409...    Досуг        Парк   \n",
              "1  {'coordinates': [37.5662867306066, 55.61508777...    Досуг        Парк   \n",
              "2  {'coordinates': [37.4008557749584, 55.85695315...    Досуг        Парк   \n",
              "3  {'coordinates': [37.4718812084234, 55.64678966...    Досуг        Парк   \n",
              "4  {'coordinates': [37.7706658895875, 55.69039115...    Досуг        Парк   \n",
              "\n",
              "  GlobalID  \n",
              "0     <NA>  \n",
              "1     <NA>  \n",
              "2     <NA>  \n",
              "3     <NA>  \n",
              "4     <NA>  "
            ],
            "text/html": [
              "<div>\n",
              "<style scoped>\n",
              "    .dataframe tbody tr th:only-of-type {\n",
              "        vertical-align: middle;\n",
              "    }\n",
              "\n",
              "    .dataframe tbody tr th {\n",
              "        vertical-align: top;\n",
              "    }\n",
              "\n",
              "    .dataframe thead th {\n",
              "        text-align: right;\n",
              "    }\n",
              "</style>\n",
              "<table border=\"1\" class=\"dataframe\">\n",
              "  <thead>\n",
              "    <tr style=\"text-align: right;\">\n",
              "      <th></th>\n",
              "      <th>ID</th>\n",
              "      <th>Name</th>\n",
              "      <th>AdmArea</th>\n",
              "      <th>District</th>\n",
              "      <th>Address</th>\n",
              "      <th>geoData</th>\n",
              "      <th>Category</th>\n",
              "      <th>SubCategory</th>\n",
              "      <th>GlobalID</th>\n",
              "    </tr>\n",
              "  </thead>\n",
              "  <tbody>\n",
              "    <tr>\n",
              "      <th>0</th>\n",
              "      <td>108</td>\n",
              "      <td>Памятник садово-паркового искусства – «Парк Дв...</td>\n",
              "      <td>Юго-Западный административный округ</td>\n",
              "      <td>Гагаринский район</td>\n",
              "      <td>Главный вход в парк расположен со стороны улиц...</td>\n",
              "      <td>{'coordinates': [37.5568070589245, 55.70429409...</td>\n",
              "      <td>Досуг</td>\n",
              "      <td>Парк</td>\n",
              "      <td>&lt;NA&gt;</td>\n",
              "    </tr>\n",
              "    <tr>\n",
              "      <th>1</th>\n",
              "      <td>229</td>\n",
              "      <td>Природно-исторический парк «Битцевский лес»</td>\n",
              "      <td>Юго-Западный административный округ</td>\n",
              "      <td>район Ясенево</td>\n",
              "      <td>Восточная часть района Ясенево</td>\n",
              "      <td>{'coordinates': [37.5662867306066, 55.61508777...</td>\n",
              "      <td>Досуг</td>\n",
              "      <td>Парк</td>\n",
              "      <td>&lt;NA&gt;</td>\n",
              "    </tr>\n",
              "    <tr>\n",
              "      <th>2</th>\n",
              "      <td>230</td>\n",
              "      <td>Природно-исторический парк «Тушинский»</td>\n",
              "      <td>Северо-Западный административный округ</td>\n",
              "      <td>[район Куркино, район Митино, район Северное Т...</td>\n",
              "      <td>улица Вилиса Лациса, дом 18, корпус 3</td>\n",
              "      <td>{'coordinates': [37.4008557749584, 55.85695315...</td>\n",
              "      <td>Досуг</td>\n",
              "      <td>Парк</td>\n",
              "      <td>&lt;NA&gt;</td>\n",
              "    </tr>\n",
              "    <tr>\n",
              "      <th>3</th>\n",
              "      <td>235</td>\n",
              "      <td>Ландшафтный заказник «Тропарёвский»</td>\n",
              "      <td>Западный административный округ</td>\n",
              "      <td>район Тропарёво-Никулино</td>\n",
              "      <td>между МКАД и улицей Академика Анохина, Тропаре...</td>\n",
              "      <td>{'coordinates': [37.4718812084234, 55.64678966...</td>\n",
              "      <td>Досуг</td>\n",
              "      <td>Парк</td>\n",
              "      <td>&lt;NA&gt;</td>\n",
              "    </tr>\n",
              "    <tr>\n",
              "      <th>4</th>\n",
              "      <td>278</td>\n",
              "      <td>Природно-исторический парк «Кузьминки-Люблино»</td>\n",
              "      <td>Юго-Восточный административный округ</td>\n",
              "      <td>район Кузьминки</td>\n",
              "      <td>Кузьминская улица, дом 10</td>\n",
              "      <td>{'coordinates': [37.7706658895875, 55.69039115...</td>\n",
              "      <td>Досуг</td>\n",
              "      <td>Парк</td>\n",
              "      <td>&lt;NA&gt;</td>\n",
              "    </tr>\n",
              "  </tbody>\n",
              "</table>\n",
              "</div>"
            ]
          },
          "metadata": {},
          "execution_count": 40
        }
      ]
    },
    {
      "cell_type": "code",
      "metadata": {
        "id": "ee3nkx9n9-qv"
      },
      "source": [
        ""
      ],
      "execution_count": null,
      "outputs": []
    }
  ]
}