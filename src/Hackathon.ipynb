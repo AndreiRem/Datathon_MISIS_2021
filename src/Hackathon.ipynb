{
 "cells": [
  {
   "cell_type": "code",
   "execution_count": 56,
   "metadata": {},
   "outputs": [
    {
     "name": "stdout",
     "output_type": "stream",
     "text": [
      "Requirement already satisfied: openpyxl in /Users/rema/.virtualenvs/ds/lib/python3.8/site-packages (3.0.9)\n",
      "Requirement already satisfied: et-xmlfile in /Users/rema/.virtualenvs/ds/lib/python3.8/site-packages (from openpyxl) (1.1.0)\n",
      "\u001b[33mWARNING: You are using pip version 21.2.4; however, version 21.3 is available.\n",
      "You should consider upgrading via the '/Users/rema/.virtualenvs/ds/bin/python -m pip install --upgrade pip' command.\u001b[0m\n"
     ]
    }
   ],
   "source": [
    "!pip install openpyxl"
   ]
  },
  {
   "cell_type": "code",
   "execution_count": 57,
   "metadata": {},
   "outputs": [],
   "source": [
    "import pandas as pd\n",
    "import json"
   ]
  },
  {
   "cell_type": "markdown",
   "metadata": {},
   "source": [
    "# Структура данных\n",
    "### ID - уникальный идентификатор\n",
    "### Longitude - долгота\n",
    "### Latitude - широта\n",
    "### Name - названия\n",
    "### AdmArea - административный округ\n",
    "### District - район\n",
    "### Address - улица и дом"
   ]
  },
  {
   "cell_type": "code",
   "execution_count": 58,
   "metadata": {},
   "outputs": [],
   "source": [
    "df_columns = ['Name', 'AdmArea', 'District', 'Address', 'geoData', 'Category', 'SubCategory']\n",
    "df = pd.DataFrame(columns=df_columns)"
   ]
  },
  {
   "cell_type": "code",
   "execution_count": 59,
   "metadata": {},
   "outputs": [],
   "source": [
    "def add_subcategory(df, sub_category_name):\n",
    "    df['SubCategory'] = sub_category_name\n",
    "    return df\n",
    "\n",
    "def add_category(df, category_name):\n",
    "    df['Category'] = category_name\n",
    "    return df\n",
    "\n",
    "def parse_coordinates(df):\n",
    "    def parse(row):\n",
    "        # Словарь\n",
    "        if type(row['geoData']) == dict:\n",
    "            geoData = row['geoData']\n",
    "        # Лист с 2-мя координатами\n",
    "        elif type(row['geoData']) == list and len(row['geoData']) == 2:\n",
    "            return row['geoData']\n",
    "        # Возможно словарь\n",
    "        elif type(row['geoData']) == str:\n",
    "            geoData = json.loads(row['geoData'])            \n",
    "        \n",
    "        if len(geoData['coordinates']) == 2 and geoData['type'] == 'Point':\n",
    "            return geoData['coordinates']\n",
    "        elif geoData['type'] == 'MultiPoint':\n",
    "            return geoData['coordinates'][0]\n",
    "        elif geoData['type'] == 'Polygon':\n",
    "            pass\n",
    "\n",
    "    df['geoData'] = df[['geoData']].apply(parse, axis=1)\n",
    "    return df"
   ]
  },
  {
   "cell_type": "markdown",
   "metadata": {},
   "source": [
    "# Религия"
   ]
  },
  {
   "cell_type": "code",
   "execution_count": 60,
   "metadata": {},
   "outputs": [],
   "source": [
    "religion_rpc = pd.read_json('../data/Religion/Религиозные объекты РПЦ.json', encoding=\"cp1251\")\n",
    "religion_catholics = pd.read_json('../data/Religion/Католические храмы.json', encoding=\"cp1251\")\n",
    "religion_mosques = pd.read_json('../data/Religion/Мечети.json', encoding=\"cp1251\")\n",
    "religion_monasteries = pd.read_json('../data/Religion/Монастыри.json', encoding=\"cp1251\")\n",
    "religion_synagogues = pd.read_json('../data/Religion/Синагоги.json', encoding=\"cp1251\")\n",
    "\n",
    "religion_df = pd.DataFrame(columns=df_columns)"
   ]
  },
  {
   "cell_type": "code",
   "execution_count": 61,
   "metadata": {},
   "outputs": [],
   "source": [
    "religion_rpc = add_subcategory(religion_rpc, 'Объект РПЦ')\n",
    "religion_catholics = add_subcategory(religion_catholics, 'Католический храм')\n",
    "religion_mosques = add_subcategory(religion_mosques, 'Мечеть')\n",
    "religion_monasteries = add_subcategory(religion_monasteries, 'Монастырь')\n",
    "religion_synagogues = add_subcategory(religion_synagogues, 'Синагога')"
   ]
  },
  {
   "cell_type": "code",
   "execution_count": 62,
   "metadata": {},
   "outputs": [],
   "source": [
    "columns = ['Name', 'AdmArea', 'District', 'Address', 'geoData', 'SubCategory']\n",
    "religion_df = religion_df.append(religion_rpc[columns])"
   ]
  },
  {
   "cell_type": "code",
   "execution_count": 63,
   "metadata": {},
   "outputs": [],
   "source": [
    "religion_catholics.rename(columns={\"ObjectName\": \"Name\"}, inplace=True)\n",
    "religion_df = religion_df.append(religion_catholics[columns])"
   ]
  },
  {
   "cell_type": "code",
   "execution_count": 64,
   "metadata": {},
   "outputs": [],
   "source": [
    "religion_mosques.rename(columns={\"ObjectName\": \"Name\"}, inplace=True)\n",
    "religion_df = religion_df.append(religion_mosques[columns])"
   ]
  },
  {
   "cell_type": "code",
   "execution_count": 65,
   "metadata": {},
   "outputs": [],
   "source": [
    "religion_monasteries.rename(columns={\"NameOfReligiousOrganization\": \"Name\"}, inplace=True)\n",
    "religion_df = religion_df.append(religion_monasteries[columns])"
   ]
  },
  {
   "cell_type": "code",
   "execution_count": 66,
   "metadata": {},
   "outputs": [],
   "source": [
    "religion_synagogues.rename(columns={\"ObjectName\": \"Name\"}, inplace=True)\n",
    "religion_df = religion_df.append(religion_synagogues[columns])"
   ]
  },
  {
   "cell_type": "code",
   "execution_count": 67,
   "metadata": {},
   "outputs": [],
   "source": [
    "religion_df = add_category(religion_df, 'Религия')"
   ]
  },
  {
   "cell_type": "code",
   "execution_count": 68,
   "metadata": {},
   "outputs": [],
   "source": [
    "religion_df = parse_coordinates(religion_df)"
   ]
  },
  {
   "cell_type": "code",
   "execution_count": 69,
   "metadata": {},
   "outputs": [],
   "source": [
    "df = df.append(religion_df)"
   ]
  },
  {
   "cell_type": "markdown",
   "metadata": {},
   "source": [
    "# Транспорт"
   ]
  },
  {
   "cell_type": "code",
   "execution_count": 70,
   "metadata": {},
   "outputs": [
    {
     "name": "stderr",
     "output_type": "stream",
     "text": [
      "/Users/rema/.virtualenvs/ds/lib/python3.8/site-packages/openpyxl/styles/stylesheet.py:226: UserWarning: Workbook contains no default style, apply openpyxl's default\n",
      "  warn(\"Workbook contains no default style, apply openpyxl's default\")\n"
     ]
    }
   ],
   "source": [
    "transport_subway_exits = pd.read_excel(\n",
    "    '../data/Transport/Входы и выходы вестибюлей станций Московского метрополитена.xlsx')\n",
    "\n",
    "# Нет адресных данных\n",
    "# transport_bus_stops = pd.read_json(\n",
    "#     'data/hackathon/Transport/Маршруты и остановки наземного городского пассажирского транспорта.json', encoding=\"cp1251\")"
   ]
  },
  {
   "cell_type": "code",
   "execution_count": 71,
   "metadata": {},
   "outputs": [],
   "source": [
    "transport_subway_exits[\"Address\"] = pd.NA\n",
    "transport_subway_exits = add_category(transport_subway_exits, 'Транспорт')\n",
    "transport_subway_exits = add_subcategory(transport_subway_exits, 'Выход из метро')"
   ]
  },
  {
   "cell_type": "code",
   "execution_count": 72,
   "metadata": {},
   "outputs": [],
   "source": [
    "transport_subway_exits.rename(columns={'geodata_center': 'geoData'}, inplace=True)"
   ]
  },
  {
   "cell_type": "code",
   "execution_count": 73,
   "metadata": {},
   "outputs": [],
   "source": [
    "transport_subway_exits = parse_coordinates(transport_subway_exits)"
   ]
  },
  {
   "cell_type": "code",
   "execution_count": 74,
   "metadata": {},
   "outputs": [],
   "source": [
    "df = df.append(transport_subway_exits[df_columns])"
   ]
  },
  {
   "cell_type": "markdown",
   "metadata": {},
   "source": [
    "# Культура"
   ]
  },
  {
   "cell_type": "code",
   "execution_count": 75,
   "metadata": {},
   "outputs": [],
   "source": [
    "сulture_objects = pd.read_json('../data/Culture/Объекты культурного наследия.json', encoding=\"cp1251\")\n",
    "сulture_museums = pd.read_json('../data/Culture/Музеи.json', encoding=\"cp1251\")"
   ]
  },
  {
   "cell_type": "code",
   "execution_count": 76,
   "metadata": {},
   "outputs": [],
   "source": [
    "сulture_objects.drop(['geoData'], axis=1, inplace=True)\n",
    "сulture_objects.rename(columns={\"ObjectNameOnDoc\": \"Name\",\n",
    "                                'Addresses': 'Address',\n",
    "                                'geodata_center': 'geoData'}, inplace=True)\n",
    "сulture_objects = parse_coordinates(сulture_objects)"
   ]
  },
  {
   "cell_type": "code",
   "execution_count": 77,
   "metadata": {},
   "outputs": [],
   "source": [
    "сulture_objects = add_category(сulture_objects, 'Культура')\n",
    "сulture_objects = add_subcategory(сulture_objects, 'Объект культурного наследия')"
   ]
  },
  {
   "cell_type": "code",
   "execution_count": 78,
   "metadata": {},
   "outputs": [],
   "source": [
    "df = df.append(сulture_objects[df_columns])"
   ]
  },
  {
   "cell_type": "code",
   "execution_count": 80,
   "metadata": {},
   "outputs": [],
   "source": [
    "сulture_museums.rename(columns={\"FullName\": \"Name\"}, inplace=True)\n",
    "сulture_museums = parse_coordinates(сulture_museums)\n",
    "\n",
    "сulture_museums['Address'] = сulture_museums[['ObjectAddress']].apply(\n",
    "    lambda row: row['ObjectAddress'][0]['Address'], axis=1)\n",
    "сulture_museums['District'] = сulture_museums[['ObjectAddress']].apply(\n",
    "    lambda row: row['ObjectAddress'][0]['District'], axis=1)\n",
    "сulture_museums['AdmArea'] = сulture_museums[['ObjectAddress']].apply(\n",
    "    lambda row: row['ObjectAddress'][0]['AdmArea'], axis=1)\n",
    "\n",
    "сulture_museums = add_category(сulture_museums, 'Культура')\n",
    "сulture_museums = add_subcategory(сulture_museums, 'Музей')"
   ]
  },
  {
   "cell_type": "code",
   "execution_count": 82,
   "metadata": {},
   "outputs": [],
   "source": [
    "df = df.append(сulture_museums[df_columns])"
   ]
  },
  {
   "cell_type": "markdown",
   "metadata": {},
   "source": [
    "# Спорт"
   ]
  },
  {
   "cell_type": "code",
   "execution_count": 102,
   "metadata": {},
   "outputs": [],
   "source": [
    "sport_objects = pd.read_json('../data/Sport/sportivnye-obekty-goroda-moskvy.json', encoding=\"cp1251\")"
   ]
  },
  {
   "cell_type": "code",
   "execution_count": 104,
   "metadata": {},
   "outputs": [],
   "source": [
    "sport_objects.rename(columns={\"FullName\": \"Name\"}, inplace=True)\n",
    "sport_objects['Address'] = sport_objects[['ObjectAddress']].apply(\n",
    "    lambda row: row['ObjectAddress'][0]['Address'], axis=1)\n",
    "sport_objects['District'] = sport_objects[['ObjectAddress']].apply(\n",
    "    lambda row: row['ObjectAddress'][0].get('District', pd.NA), axis=1)\n",
    "sport_objects['AdmArea'] = sport_objects[['ObjectAddress']].apply(\n",
    "    lambda row: row['ObjectAddress'][0].get('AdmArea', pd.NA), axis=1)\n",
    "\n",
    "sport_objects = add_category(sport_objects, 'Спорт')\n",
    "sport_objects = add_subcategory(sport_objects, 'Спортивное сооружение')\n",
    "\n",
    "sport_objects.drop(['geoData'], axis=1, inplace=True)\n",
    "sport_objects.rename(columns={'geodata_center': 'geoData'}, inplace=True)\n",
    "sport_objects = parse_coordinates(sport_objects)"
   ]
  },
  {
   "cell_type": "code",
   "execution_count": 105,
   "metadata": {},
   "outputs": [],
   "source": [
    "df = df.append(sport_objects[df_columns])"
   ]
  },
  {
   "cell_type": "code",
   "execution_count": 107,
   "metadata": {},
   "outputs": [
    {
     "data": {
      "text/plain": [
       "(10358, 7)"
      ]
     },
     "execution_count": 107,
     "metadata": {},
     "output_type": "execute_result"
    }
   ],
   "source": [
    "df.shape"
   ]
  }
 ],
 "metadata": {
  "kernelspec": {
   "display_name": "Python 3",
   "language": "python",
   "name": "python3"
  },
  "language_info": {
   "codemirror_mode": {
    "name": "ipython",
    "version": 3
   },
   "file_extension": ".py",
   "mimetype": "text/x-python",
   "name": "python",
   "nbconvert_exporter": "python",
   "pygments_lexer": "ipython3",
   "version": "3.8.6"
  }
 },
 "nbformat": 4,
 "nbformat_minor": 4
}
